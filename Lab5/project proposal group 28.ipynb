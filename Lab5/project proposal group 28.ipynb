{
 "cells": [
  {
   "cell_type": "markdown",
   "metadata": {},
   "source": [
    "# Project Group - \n",
    "\n",
    "Members: \n",
    "Hugo Mann\n",
    "Max Scholten \n",
    "Koen van Maanen \n",
    "Maxime van Berkum \n",
    "Joost van Maanen \n",
    "\n",
    "Student numbers: \n",
    "4729153\n",
    "4880684\n",
    "4855086\n",
    "4963377\n",
    "4961757"
   ]
  },
  {
   "cell_type": "markdown",
   "metadata": {},
   "source": [
    "# Research Objective\n",
    "\n",
    "*Requires data modeling and quantitative research in Transport, Infrastructure & Logistics*"
   ]
  },
  {
   "cell_type": "markdown",
   "metadata": {},
   "source": [
    "What are the main causes of the cancellations and delays of trains in the Netherlands, and how can the impact of these postponements be minimized?"
   ]
  },
  {
   "cell_type": "markdown",
   "metadata": {},
   "source": [
    "# Contribution Statement\n",
    "\n",
    "*Be specific. Some of the tasks can be coding (expect everyone to do this), background research, conceptualisation, visualisation, data analysis, data modelling*"
   ]
  },
  {
   "cell_type": "markdown",
   "metadata": {},
   "source": [
    "**Author 1**:\n",
    "\n",
    "**Author 2**:\n",
    "\n",
    "**Author 3**:"
   ]
  },
  {
   "cell_type": "markdown",
   "metadata": {},
   "source": [
    "# Data Used"
   ]
  },
  {
   "cell_type": "markdown",
   "metadata": {},
   "source": [
    "https://www.rijdendetreinen.nl/over/open-data\n",
    "\n",
    "https://dashboards.nsjaarverslag.nl/reizigersgedrag\n",
    "\n",
    "https://www.treinreiziger.nl/aantal-in-en-uitstappers-per-station-2013-2018/\n",
    "\n",
    "https://data.ovdata.nl/ftp/data.ndovloket.nl/bezetting/ns/\n",
    "\n",
    "https://data.ovdata.nl/ftp/data.ndovloket.nl/docs/iff/Publicatiedocument%20IFF_%20v.1.5.pdf\n",
    "\n",
    "https://data.ovdata.nl/ftp/data.ndovloket.nl/docs/infoplus/RIT/Publicatiedocument%20RITI%20voor%20NDOV%201.3.pdf\n"
   ]
  },
  {
   "cell_type": "markdown",
   "metadata": {},
   "source": [
    "# Data Pipeline"
   ]
  },
  {
   "cell_type": "markdown",
   "metadata": {},
   "source": [
    "This is not clear to us. "
   ]
  }
 ],
 "metadata": {
  "kernelspec": {
   "display_name": "Python 3",
   "language": "python",
   "name": "python3"
  },
  "language_info": {
   "codemirror_mode": {
    "name": "ipython",
    "version": 3
   },
   "file_extension": ".py",
   "mimetype": "text/x-python",
   "name": "python",
   "nbconvert_exporter": "python",
   "pygments_lexer": "ipython3",
   "version": "3.8.8"
  },
  "vscode": {
   "interpreter": {
    "hash": "31f2aee4e71d21fbe5cf8b01ff0e069b9275f58929596ceb00d14d90e3e16cd6"
   }
  }
 },
 "nbformat": 4,
 "nbformat_minor": 2
}
